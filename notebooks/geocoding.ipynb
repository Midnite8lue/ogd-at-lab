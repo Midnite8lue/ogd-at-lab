{
 "cells": [
  {
   "cell_type": "markdown",
   "metadata": {},
   "source": [
    "# Geocoding addresses"
   ]
  },
  {
   "cell_type": "code",
   "execution_count": 20,
   "metadata": {},
   "outputs": [],
   "source": [
    "import pandas as pd\n",
    "import geopandas as gpd\n",
    "from shapely.geometry import Point\n",
    "import hvplot.pandas\n",
    "from geopy.geocoders import Nominatim\n",
    "from utils.ogc_io import gdf_from_wfs\n",
    "from utils.plotting import hvplot_with_buffer"
   ]
  },
  {
   "cell_type": "code",
   "execution_count": 21,
   "metadata": {},
   "outputs": [],
   "source": [
    "address = \"Giefinggasse 2, 1210 Wien\""
   ]
  },
  {
   "cell_type": "code",
   "execution_count": 22,
   "metadata": {},
   "outputs": [],
   "source": [
    "locator = Nominatim(user_agent=\"myGeocoder\")\n",
    "location = locator.geocode(address)"
   ]
  },
  {
   "cell_type": "code",
   "execution_count": 23,
   "metadata": {},
   "outputs": [
    {
     "name": "stdout",
     "output_type": "stream",
     "text": [
      "Eurest, 2, Giefinggasse, KG Leopoldau, Floridsdorf, Wien, 1210, Österreich\n",
      "Latitude = 48.2684719, Longitude = 16.4265658\n"
     ]
    }
   ],
   "source": [
    "print(location.address)\n",
    "print(\"Latitude = {}, Longitude = {}\".format(location.latitude, location.longitude))"
   ]
  },
  {
   "cell_type": "code",
   "execution_count": 24,
   "metadata": {},
   "outputs": [],
   "source": [
    "geocoded_gdf = gpd.GeoDataFrame(pd.DataFrame([\n",
    "    {'geometry': Point(location.longitude, location.latitude), 'address': address}\n",
    "])).set_crs('epsg:4326')"
   ]
  },
  {
   "cell_type": "code",
   "execution_count": 25,
   "metadata": {},
   "outputs": [
    {
     "data": {},
     "metadata": {},
     "output_type": "display_data"
    },
    {
     "data": {
      "application/vnd.holoviews_exec.v0+json": "",
      "text/html": [
       "<div id='1003'>\n",
       "\n",
       "\n",
       "\n",
       "\n",
       "\n",
       "  <div class=\"bk-root\" id=\"a0dd6451-0116-4a8c-beb0-4131622fd147\" data-root-id=\"1003\"></div>\n",
       "</div>\n",
       "<script type=\"application/javascript\">(function(root) {\n",
       "  function embed_document(root) {\n",
       "  var docs_json = {\"b8772ba3-cfc4-4482-8365-4b0dcfb6739e\":{\"roots\":{\"references\":[{\"attributes\":{\"match_aspect\":true,\"overlay\":{\"id\":\"1043\"}},\"id\":\"1041\",\"type\":\"BoxZoomTool\"},{\"attributes\":{\"dimension\":\"lon\"},\"id\":\"1055\",\"type\":\"MercatorTickFormatter\"},{\"attributes\":{\"zoom_on_axis\":false},\"id\":\"1040\",\"type\":\"WheelZoomTool\"},{\"attributes\":{\"axis\":{\"id\":\"1034\"},\"dimension\":1,\"grid_line_color\":null,\"ticker\":null},\"id\":\"1037\",\"type\":\"Grid\"},{\"attributes\":{},\"id\":\"1104\",\"type\":\"UnionRenderers\"},{\"attributes\":{\"source\":{\"id\":\"1089\"}},\"id\":\"1096\",\"type\":\"CDSView\"},{\"attributes\":{\"data\":{\"xs\":[[[{\"__ndarray__\":\"LL8poM/sO0GzL9uJwuw7QauDMCWn7DtBRKzftX3sO0HvoDiiRuw7QTGTJ3IC7DtB537kzbHrO0GxYVN8Ves7QfIkGWHu6jtBLPxpen3qO0FSpJbeA+o7QbaNXrmC6TtB9YcNSfvoO0G3BWzbbug7Qah6icre5ztBgrBoeUznO0FYOJZQueY7QedQsbom5jtBT7vvIJblO0G2A6XnCOU7QfK61WqA5DtBGALf+v3jO0HtlzrZguM7QaFUZzUQ4ztBrKj9KafiO0GySve5SOI7QdTEMM714TtBlwcrM6/hO0FijRKXdeE7QR3yEIhJ4TtBpy3tcivhO0FF4f2hG+E7QXpfcDwa4TtBSEfmRSfhO0Eht2qeQuE7QRdEvwJs4TtB2AkADaPhO0GqT5015+E7QVBqqNQ34jtBWrNwI5TiO0Ezpmw+++I7QSh0aids4ztBiK0CyOXjO0EI90b0ZuQ7QYArpm3u5DtBGsL+5XrlO0H43NcCC+Y7QQ0BuWCd5jtBzCqYljDnO0HyuVU5w+c7QcGLPd9T6DtB1Y2EI+HoO0EpHLqpaek7Qe+cJCHs6TtBugABSGfqO0ElGJ3u2eo7QeoNRfpC6ztBrcb8Z6HrO0H9av5O9Os7QUz19+I67DtByUACdnTsO0G4x0x6oOw7QWf8eYO+7DtB5+6oR87sO0Esvymgz+w7QQ==\",\"dtype\":\"float64\",\"order\":\"little\",\"shape\":[65]}]]],\"ys\":[[[{\"__ndarray__\":\"9Q129WV3V0Eu5KYyQXdXQejLpu8cd1dBaN3Xhfl2V0Fzn4JM13ZXQacW/5e2dldBPCbluJd2V0HiPkb7enZXQQlB8qVgdldBilvJ+Uh2V0HJjxwxNHZXQbdfHn8idldB5AJlDxR2V0E5VH8FCXZXQb98nXwBdldBTy9Oh/11V0FtF1Ev/XVXQY/pfnUAdldBBk/HUQd2V0GqskSzEXZXQeu9ZYAfdldBMyIslzB2V0GXFYDNRHZXQba4l/FbdldBbGpxynV2V0Ge318YknZXQZCqppWwdldBR7Ql99B2V0GYBRLt8nZXQZQcuiMWd1dBE+5TRDp3V0ESm9L1XndXQfDMwd2Dd1dBS54koah3V0Fq61XlzHdXQWvh51Dwd1dBWqSAjBJ4V0FU6rFDM3hXQdZ1ySVSeFdBPWqY5m54V0HVii8/iXhXQb6Qju6geFdBl+JEurV4V0EsHQJvx3hXQXUEFeHVeFdBn5/X7OB4V0GrcQd36HhXQRTyCG3seFdBQpwVxex4V0GLIlR+6XhXQTqI2qDieFdBGB2aPdh4V0HVjDVuynhXQV5rwVS5eFdB4txvG6V4V0GyLCj0jXhXQT5YCxh0eFdBoMLmxld4V0GZcZZGOXhXQWBdWOIYeFdBn4ES6vZ3V0Etfo2x03dXQRqypY+vd1dBHtJ03Yp3V0H1DXb1ZXdXQQ==\",\"dtype\":\"float64\",\"order\":\"little\",\"shape\":[65]}]]]},\"selected\":{\"id\":\"1082\"},\"selection_policy\":{\"id\":\"1102\"}},\"id\":\"1081\",\"type\":\"ColumnDataSource\"},{\"attributes\":{},\"id\":\"1042\",\"type\":\"ResetTool\"},{\"attributes\":{\"end\":6153439.512742725,\"min_interval\":5,\"reset_end\":6153439.512742725,\"reset_start\":6149832.305966878,\"start\":6149832.305966878,\"tags\":[[[\"Latitude\",\"Latitude\",null]]]},\"id\":\"1012\",\"type\":\"Range1d\"},{\"attributes\":{\"data_source\":{\"id\":\"1081\"},\"glyph\":{\"id\":\"1084\"},\"hover_glyph\":null,\"muted_glyph\":{\"id\":\"1086\"},\"nonselection_glyph\":{\"id\":\"1085\"},\"selection_glyph\":null,\"view\":{\"id\":\"1088\"}},\"id\":\"1087\",\"type\":\"GlyphRenderer\"},{\"attributes\":{\"dimension\":\"lon\"},\"id\":\"1054\",\"type\":\"MercatorTicker\"},{\"attributes\":{\"fill_alpha\":{\"value\":0.1},\"fill_color\":{\"value\":\"#1f77b3\"},\"line_alpha\":{\"value\":0.1},\"line_color\":{\"value\":\"#1f77b3\"},\"size\":{\"units\":\"screen\",\"value\":5.477225575051661},\"x\":{\"field\":\"Longitude\"},\"y\":{\"field\":\"Latitude\"}},\"id\":\"1093\",\"type\":\"Scatter\"},{\"attributes\":{\"source\":{\"id\":\"1081\"}},\"id\":\"1088\",\"type\":\"CDSView\"},{\"attributes\":{},\"id\":\"1090\",\"type\":\"Selection\"},{\"attributes\":{\"code\":\"\\n        var projections = Bokeh.require(\\\"core/util/projections\\\");\\n        var x = special_vars.data_x\\n        var y = special_vars.data_y\\n        if (projections.wgs84_mercator.invert == null) {\\n          var coords = projections.wgs84_mercator.inverse([x, y])\\n        } else {\\n          var coords = projections.wgs84_mercator.invert(x, y)\\n        }\\n        return \\\"\\\" + (coords[1]).toFixed(4)\\n    \"},\"id\":\"1098\",\"type\":\"CustomJSHover\"},{\"attributes\":{},\"id\":\"1026\",\"type\":\"LinearScale\"},{\"attributes\":{\"axis_label\":\"x\",\"bounds\":\"auto\",\"formatter\":{\"id\":\"1055\"},\"major_label_orientation\":\"horizontal\",\"ticker\":{\"id\":\"1054\"}},\"id\":\"1030\",\"type\":\"LinearAxis\"},{\"attributes\":{\"attribution\":\"&copy; <a href=\\\"https://www.openstreetmap.org/copyright\\\">OpenStreetMap</a> contributors\",\"url\":\"http://c.tile.openstreetmap.org/{Z}/{X}/{Y}.png\"},\"id\":\"1074\",\"type\":\"WMTSTileSource\"},{\"attributes\":{\"callback\":null,\"renderers\":[{\"id\":\"1087\"}],\"tags\":[\"hv_created\"],\"tooltips\":null},\"id\":\"1015\",\"type\":\"HoverTool\"},{\"attributes\":{},\"id\":\"1039\",\"type\":\"PanTool\"},{\"attributes\":{\"axis\":{\"id\":\"1030\"},\"grid_line_color\":null,\"ticker\":null},\"id\":\"1033\",\"type\":\"Grid\"},{\"attributes\":{\"align\":null,\"below\":[{\"id\":\"1030\"}],\"center\":[{\"id\":\"1033\"},{\"id\":\"1037\"}],\"frame_height\":300,\"frame_width\":298,\"left\":[{\"id\":\"1034\"}],\"margin\":null,\"match_aspect\":true,\"min_border_bottom\":10,\"min_border_left\":10,\"min_border_right\":10,\"min_border_top\":10,\"plot_height\":null,\"plot_width\":null,\"renderers\":[{\"id\":\"1077\"},{\"id\":\"1087\"},{\"id\":\"1095\"}],\"sizing_mode\":\"fixed\",\"title\":{\"id\":\"1022\"},\"toolbar\":{\"id\":\"1044\"},\"x_range\":{\"id\":\"1011\"},\"x_scale\":{\"id\":\"1026\"},\"y_range\":{\"id\":\"1012\"},\"y_scale\":{\"id\":\"1028\"}},\"id\":\"1021\",\"subtype\":\"Figure\",\"type\":\"Plot\"},{\"attributes\":{\"axis_label\":\"y\",\"bounds\":\"auto\",\"formatter\":{\"id\":\"1057\"},\"major_label_orientation\":\"horizontal\",\"ticker\":{\"id\":\"1056\"}},\"id\":\"1034\",\"type\":\"LinearAxis\"},{\"attributes\":{\"code\":\"\\n        var projections = Bokeh.require(\\\"core/util/projections\\\");\\n        var x = special_vars.data_x\\n        var y = special_vars.data_y\\n        if (projections.wgs84_mercator.invert == null) {\\n          var coords = projections.wgs84_mercator.inverse([x, y])\\n        } else {\\n          var coords = projections.wgs84_mercator.invert(x, y)\\n        }\\n        return \\\"\\\" + (coords[0]).toFixed(4)\\n    \"},\"id\":\"1097\",\"type\":\"CustomJSHover\"},{\"attributes\":{\"children\":[{\"id\":\"1004\"},{\"id\":\"1021\"},{\"id\":\"1155\"}],\"margin\":[0,0,0,0],\"name\":\"Row02985\",\"tags\":[\"embedded\"]},\"id\":\"1003\",\"type\":\"Row\"},{\"attributes\":{\"data\":{\"Latitude\":{\"__ndarray__\":\"AS3Y8XR3V0E=\",\"dtype\":\"float64\",\"order\":\"little\",\"shape\":[1]},\"Longitude\":{\"__ndarray__\":\"IwG68PTmO0E=\",\"dtype\":\"float64\",\"order\":\"little\",\"shape\":[1]}},\"selected\":{\"id\":\"1090\"},\"selection_policy\":{\"id\":\"1104\"}},\"id\":\"1089\",\"type\":\"ColumnDataSource\"},{\"attributes\":{\"text\":\"Geocoded address with buffer\",\"text_color\":{\"value\":\"black\"},\"text_font_size\":{\"value\":\"12pt\"}},\"id\":\"1022\",\"type\":\"Title\"},{\"attributes\":{},\"id\":\"1028\",\"type\":\"LinearScale\"},{\"attributes\":{\"dimension\":\"lat\"},\"id\":\"1057\",\"type\":\"MercatorTickFormatter\"},{\"attributes\":{\"data_source\":{\"id\":\"1089\"},\"glyph\":{\"id\":\"1092\"},\"hover_glyph\":null,\"muted_glyph\":{\"id\":\"1094\"},\"nonselection_glyph\":{\"id\":\"1093\"},\"selection_glyph\":null,\"view\":{\"id\":\"1096\"}},\"id\":\"1095\",\"type\":\"GlyphRenderer\"},{\"attributes\":{\"fill_alpha\":{\"value\":0.2},\"fill_color\":{\"value\":\"#1f77b3\"},\"line_alpha\":{\"value\":0.2},\"line_color\":{\"value\":\"#1f77b3\"},\"size\":{\"units\":\"screen\",\"value\":5.477225575051661},\"x\":{\"field\":\"Longitude\"},\"y\":{\"field\":\"Latitude\"}},\"id\":\"1094\",\"type\":\"Scatter\"},{\"attributes\":{},\"id\":\"1102\",\"type\":\"UnionRenderers\"},{\"attributes\":{\"margin\":[5,5,5,5],\"name\":\"HSpacer02990\",\"sizing_mode\":\"stretch_width\"},\"id\":\"1155\",\"type\":\"Spacer\"},{\"attributes\":{\"fill_alpha\":{\"value\":0.5},\"fill_color\":{\"value\":\"#1f77b3\"},\"line_alpha\":{\"value\":0.5},\"line_width\":{\"value\":0},\"xs\":{\"field\":\"xs\"},\"ys\":{\"field\":\"ys\"}},\"id\":\"1084\",\"type\":\"MultiPolygons\"},{\"attributes\":{\"bottom_units\":\"screen\",\"fill_alpha\":0.5,\"fill_color\":\"lightgrey\",\"left_units\":\"screen\",\"level\":\"overlay\",\"line_alpha\":1.0,\"line_color\":\"black\",\"line_dash\":[4,4],\"line_width\":2,\"right_units\":\"screen\",\"top_units\":\"screen\"},\"id\":\"1043\",\"type\":\"BoxAnnotation\"},{\"attributes\":{\"fill_color\":{\"value\":\"#1f77b3\"},\"line_color\":{\"value\":\"#1f77b3\"},\"size\":{\"units\":\"screen\",\"value\":5.477225575051661},\"x\":{\"field\":\"Longitude\"},\"y\":{\"field\":\"Latitude\"}},\"id\":\"1092\",\"type\":\"Scatter\"},{\"attributes\":{\"margin\":[5,5,5,5],\"name\":\"HSpacer02989\",\"sizing_mode\":\"stretch_width\"},\"id\":\"1004\",\"type\":\"Spacer\"},{\"attributes\":{\"dimension\":\"lat\"},\"id\":\"1056\",\"type\":\"MercatorTicker\"},{\"attributes\":{\"fill_alpha\":{\"value\":0.2},\"fill_color\":{\"value\":\"#1f77b3\"},\"line_alpha\":{\"value\":0.2},\"line_width\":{\"value\":0},\"xs\":{\"field\":\"xs\"},\"ys\":{\"field\":\"ys\"}},\"id\":\"1086\",\"type\":\"MultiPolygons\"},{\"attributes\":{\"end\":1830394.349733443,\"min_interval\":5,\"reset_end\":1830394.349733443,\"reset_start\":1826799.5119932445,\"start\":1826799.5119932445,\"tags\":[[[\"Longitude\",\"Longitude\",null]]]},\"id\":\"1011\",\"type\":\"Range1d\"},{\"attributes\":{},\"id\":\"1082\",\"type\":\"Selection\"},{\"attributes\":{\"fill_alpha\":{\"value\":0.5},\"fill_color\":{\"value\":\"#1f77b3\"},\"line_alpha\":{\"value\":0.5},\"line_width\":{\"value\":0},\"xs\":{\"field\":\"xs\"},\"ys\":{\"field\":\"ys\"}},\"id\":\"1085\",\"type\":\"MultiPolygons\"},{\"attributes\":{\"callback\":null,\"formatters\":{\"Latitude\":{\"id\":\"1098\"},\"Longitude\":{\"id\":\"1097\"}},\"renderers\":[{\"id\":\"1095\"}],\"tags\":[\"hv_created\"],\"tooltips\":[[\"Longitude\",\"@{Longitude}{custom}\"],[\"Latitude\",\"@{Latitude}{custom}\"]]},\"id\":\"1018\",\"type\":\"HoverTool\"},{\"attributes\":{\"active_drag\":\"auto\",\"active_inspect\":\"auto\",\"active_multi\":null,\"active_scroll\":{\"id\":\"1040\"},\"active_tap\":\"auto\",\"tools\":[{\"id\":\"1015\"},{\"id\":\"1018\"},{\"id\":\"1039\"},{\"id\":\"1040\"},{\"id\":\"1041\"},{\"id\":\"1042\"}]},\"id\":\"1044\",\"type\":\"Toolbar\"},{\"attributes\":{\"tile_source\":{\"id\":\"1074\"}},\"id\":\"1077\",\"type\":\"TileRenderer\"}],\"root_ids\":[\"1003\"]},\"title\":\"Bokeh Application\",\"version\":\"2.2.3\"}};\n",
       "  var render_items = [{\"docid\":\"b8772ba3-cfc4-4482-8365-4b0dcfb6739e\",\"root_ids\":[\"1003\"],\"roots\":{\"1003\":\"a0dd6451-0116-4a8c-beb0-4131622fd147\"}}];\n",
       "  root.Bokeh.embed.embed_items_notebook(docs_json, render_items);\n",
       "  }\n",
       "if (root.Bokeh !== undefined) {\n",
       "    embed_document(root);\n",
       "  } else {\n",
       "    var attempts = 0;\n",
       "    var timer = setInterval(function(root) {\n",
       "      if (root.Bokeh !== undefined) {\n",
       "        clearInterval(timer);\n",
       "        embed_document(root);\n",
       "      } else if (document.readyState == \"complete\") {\n",
       "        attempts++;\n",
       "        if (attempts > 100) {\n",
       "          clearInterval(timer);\n",
       "          console.log(\"Bokeh: ERROR: Unable to run BokehJS code because BokehJS library is missing\");\n",
       "        }\n",
       "      }\n",
       "    }, 10, root)\n",
       "  }\n",
       "})(window);</script>"
      ],
      "text/plain": [
       ":Overlay\n",
       "   .Tiles.I    :Tiles   [x,y]\n",
       "   .Polygons.I :Polygons   [Longitude,Latitude]\n",
       "   .Points.I   :Points   [Longitude,Latitude]"
      ]
     },
     "execution_count": 25,
     "metadata": {
      "application/vnd.holoviews_exec.v0+json": {
       "id": "1003"
      }
     },
     "output_type": "execute_result"
    }
   ],
   "source": [
    "map_plot = hvplot_with_buffer(geocoded_gdf, 1000, size=400, title='Geocoded address with buffer')\n",
    "map_plot"
   ]
  },
  {
   "cell_type": "markdown",
   "metadata": {},
   "source": [
    "## Adding more layers"
   ]
  },
  {
   "cell_type": "code",
   "execution_count": 26,
   "metadata": {},
   "outputs": [
    {
     "data": {},
     "metadata": {},
     "output_type": "display_data"
    },
    {
     "data": {
      "application/vnd.holoviews_exec.v0+json": "",
      "text/html": [
       "<div id='1187'>\n",
       "\n",
       "\n",
       "\n",
       "\n",
       "\n",
       "  <div class=\"bk-root\" id=\"6877dec6-3c10-401e-ac85-1b1046aa5e98\" data-root-id=\"1187\"></div>\n",
       "</div>\n",
       "<script type=\"application/javascript\">(function(root) {\n",
       "  function embed_document(root) {\n",
       "  var docs_json = {\"2e97d199-4ef7-4efb-b2ec-de6784b9cfc4\":{\"roots\":{\"references\":[{\"attributes\":{\"align\":null,\"below\":[{\"id\":\"1219\"}],\"center\":[{\"id\":\"1222\"},{\"id\":\"1226\"}],\"frame_height\":300,\"frame_width\":268,\"left\":[{\"id\":\"1223\"}],\"margin\":null,\"match_aspect\":true,\"min_border_bottom\":10,\"min_border_left\":10,\"min_border_right\":10,\"min_border_top\":10,\"plot_height\":null,\"plot_width\":null,\"renderers\":[{\"id\":\"1266\"},{\"id\":\"1276\"},{\"id\":\"1284\"},{\"id\":\"1294\"}],\"sizing_mode\":\"fixed\",\"title\":{\"id\":\"1211\"},\"toolbar\":{\"id\":\"1233\"},\"x_range\":{\"id\":\"1197\"},\"x_scale\":{\"id\":\"1215\"},\"y_range\":{\"id\":\"1198\"},\"y_scale\":{\"id\":\"1217\"}},\"id\":\"1210\",\"subtype\":\"Figure\",\"type\":\"Plot\"},{\"attributes\":{\"source\":{\"id\":\"1288\"}},\"id\":\"1295\",\"type\":\"CDSView\"},{\"attributes\":{\"data\":{\"Latitude\":{\"__ndarray__\":\"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\",\"dtype\":\"float64\",\"order\":\"little\",\"shape\":[691]},\"Longitude\":{\"__ndarray__\":\"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\",\"dtype\":\"float64\",\"order\":\"little\",\"shape\":[691]}},\"selected\":{\"id\":\"1289\"},\"selection_policy\":{\"id\":\"1305\"}},\"id\":\"1288\",\"type\":\"ColumnDataSource\"},{\"attributes\":{\"data_source\":{\"id\":\"1278\"},\"glyph\":{\"id\":\"1281\"},\"hover_glyph\":null,\"muted_glyph\":{\"id\":\"1283\"},\"nonselection_glyph\":{\"id\":\"1282\"},\"selection_glyph\":null,\"view\":{\"id\":\"1285\"}},\"id\":\"1284\",\"type\":\"GlyphRenderer\"},{\"attributes\":{\"axis\":{\"id\":\"1219\"},\"grid_line_color\":null,\"ticker\":null},\"id\":\"1222\",\"type\":\"Grid\"},{\"attributes\":{\"data_source\":{\"id\":\"1288\"},\"glyph\":{\"id\":\"1291\"},\"hover_glyph\":null,\"muted_glyph\":{\"id\":\"1293\"},\"nonselection_glyph\":{\"id\":\"1292\"},\"selection_glyph\":null,\"view\":{\"id\":\"1295\"}},\"id\":\"1294\",\"type\":\"GlyphRenderer\"},{\"attributes\":{\"active_drag\":\"auto\",\"active_inspect\":\"auto\",\"active_multi\":null,\"active_scroll\":{\"id\":\"1229\"},\"active_tap\":\"auto\",\"tools\":[{\"id\":\"1201\"},{\"id\":\"1204\"},{\"id\":\"1228\"},{\"id\":\"1229\"},{\"id\":\"1230\"},{\"id\":\"1231\"}]},\"id\":\"1233\",\"type\":\"Toolbar\"},{\"attributes\":{\"end\":1864025.700087714,\"min_interval\":5,\"reset_end\":1864025.700087714,\"reset_start\":1783984.504832299,\"start\":1783984.504832299,\"tags\":[[[\"Longitude\",\"Longitude\",null]]]},\"id\":\"1197\",\"type\":\"Range1d\"},{\"attributes\":{\"fill_color\":{\"value\":\"#ff7e0e\"},\"line_color\":{\"value\":\"#ff7e0e\"},\"size\":{\"units\":\"screen\",\"value\":5.477225575051661},\"x\":{\"field\":\"Longitude\"},\"y\":{\"field\":\"Latitude\"}},\"id\":\"1291\",\"type\":\"Scatter\"},{\"attributes\":{\"fill_alpha\":{\"value\":0.2},\"fill_color\":{\"value\":\"#1f77b3\"},\"line_alpha\":{\"value\":0.2},\"line_width\":{\"value\":0},\"xs\":{\"field\":\"xs\"},\"ys\":{\"field\":\"ys\"}},\"id\":\"1275\",\"type\":\"MultiPolygons\"},{\"attributes\":{\"axis_label\":\"x\",\"bounds\":\"auto\",\"formatter\":{\"id\":\"1244\"},\"major_label_orientation\":\"horizontal\",\"ticker\":{\"id\":\"1243\"}},\"id\":\"1219\",\"type\":\"LinearAxis\"},{\"attributes\":{\"dimension\":\"lon\"},\"id\":\"1243\",\"type\":\"MercatorTicker\"},{\"attributes\":{\"fill_alpha\":{\"value\":0.5},\"fill_color\":{\"value\":\"#1f77b3\"},\"line_alpha\":{\"value\":0.5},\"line_width\":{\"value\":0},\"xs\":{\"field\":\"xs\"},\"ys\":{\"field\":\"ys\"}},\"id\":\"1274\",\"type\":\"MultiPolygons\"},{\"attributes\":{\"dimension\":\"lon\"},\"id\":\"1244\",\"type\":\"MercatorTickFormatter\"},{\"attributes\":{},\"id\":\"1305\",\"type\":\"UnionRenderers\"},{\"attributes\":{\"code\":\"\\n        var projections = Bokeh.require(\\\"core/util/projections\\\");\\n        var x = special_vars.data_x\\n        var y = special_vars.data_y\\n        if (projections.wgs84_mercator.invert == null) {\\n          var coords = projections.wgs84_mercator.inverse([x, y])\\n        } else {\\n          var coords = projections.wgs84_mercator.invert(x, y)\\n        }\\n        return \\\"\\\" + (coords[0]).toFixed(4)\\n    \"},\"id\":\"1286\",\"type\":\"CustomJSHover\"},{\"attributes\":{\"dimension\":\"lat\"},\"id\":\"1245\",\"type\":\"MercatorTicker\"},{\"attributes\":{},\"id\":\"1301\",\"type\":\"UnionRenderers\"},{\"attributes\":{},\"id\":\"1303\",\"type\":\"UnionRenderers\"},{\"attributes\":{\"fill_alpha\":{\"value\":0.2},\"fill_color\":{\"value\":\"#ff7e0e\"},\"line_alpha\":{\"value\":0.2},\"line_color\":{\"value\":\"#ff7e0e\"},\"size\":{\"units\":\"screen\",\"value\":5.477225575051661},\"x\":{\"field\":\"Longitude\"},\"y\":{\"field\":\"Latitude\"}},\"id\":\"1293\",\"type\":\"Scatter\"},{\"attributes\":{},\"id\":\"1289\",\"type\":\"Selection\"},{\"attributes\":{\"bottom_units\":\"screen\",\"fill_alpha\":0.5,\"fill_color\":\"lightgrey\",\"left_units\":\"screen\",\"level\":\"overlay\",\"line_alpha\":1.0,\"line_color\":\"black\",\"line_dash\":[4,4],\"line_width\":2,\"right_units\":\"screen\",\"top_units\":\"screen\"},\"id\":\"1232\",\"type\":\"BoxAnnotation\"},{\"attributes\":{\"dimension\":\"lat\"},\"id\":\"1246\",\"type\":\"MercatorTickFormatter\"},{\"attributes\":{\"match_aspect\":true,\"overlay\":{\"id\":\"1232\"}},\"id\":\"1230\",\"type\":\"BoxZoomTool\"},{\"attributes\":{\"axis_label\":\"y\",\"bounds\":\"auto\",\"formatter\":{\"id\":\"1246\"},\"major_label_orientation\":\"horizontal\",\"ticker\":{\"id\":\"1245\"}},\"id\":\"1223\",\"type\":\"LinearAxis\"},{\"attributes\":{\"callback\":null,\"formatters\":{\"Latitude\":{\"id\":\"1287\"},\"Longitude\":{\"id\":\"1286\"}},\"renderers\":[{\"id\":\"1284\"}],\"tags\":[\"hv_created\"],\"tooltips\":[[\"Longitude\",\"@{Longitude}{custom}\"],[\"Latitude\",\"@{Latitude}{custom}\"]]},\"id\":\"1204\",\"type\":\"HoverTool\"},{\"attributes\":{\"source\":{\"id\":\"1270\"}},\"id\":\"1277\",\"type\":\"CDSView\"},{\"attributes\":{},\"id\":\"1279\",\"type\":\"Selection\"},{\"attributes\":{\"fill_alpha\":{\"value\":0.1},\"fill_color\":{\"value\":\"#1f77b3\"},\"line_alpha\":{\"value\":0.1},\"line_color\":{\"value\":\"#1f77b3\"},\"size\":{\"units\":\"screen\",\"value\":5.477225575051661},\"x\":{\"field\":\"Longitude\"},\"y\":{\"field\":\"Latitude\"}},\"id\":\"1282\",\"type\":\"Scatter\"},{\"attributes\":{\"fill_alpha\":{\"value\":0.1},\"fill_color\":{\"value\":\"#ff7e0e\"},\"line_alpha\":{\"value\":0.1},\"line_color\":{\"value\":\"#ff7e0e\"},\"size\":{\"units\":\"screen\",\"value\":5.477225575051661},\"x\":{\"field\":\"Longitude\"},\"y\":{\"field\":\"Latitude\"}},\"id\":\"1292\",\"type\":\"Scatter\"},{\"attributes\":{\"margin\":[5,5,5,5],\"name\":\"HSpacer03587\",\"sizing_mode\":\"stretch_width\"},\"id\":\"1372\",\"type\":\"Spacer\"},{\"attributes\":{\"fill_alpha\":{\"value\":0.2},\"fill_color\":{\"value\":\"#1f77b3\"},\"line_alpha\":{\"value\":0.2},\"line_color\":{\"value\":\"#1f77b3\"},\"size\":{\"units\":\"screen\",\"value\":5.477225575051661},\"x\":{\"field\":\"Longitude\"},\"y\":{\"field\":\"Latitude\"}},\"id\":\"1283\",\"type\":\"Scatter\"},{\"attributes\":{\"text\":\"Geocoded address with buffer\",\"text_color\":{\"value\":\"black\"},\"text_font_size\":{\"value\":\"12pt\"}},\"id\":\"1211\",\"type\":\"Title\"},{\"attributes\":{\"axis\":{\"id\":\"1223\"},\"dimension\":1,\"grid_line_color\":null,\"ticker\":null},\"id\":\"1226\",\"type\":\"Grid\"},{\"attributes\":{\"attribution\":\"&copy; <a href=\\\"https://www.openstreetmap.org/copyright\\\">OpenStreetMap</a> contributors\",\"url\":\"http://c.tile.openstreetmap.org/{Z}/{X}/{Y}.png\"},\"id\":\"1263\",\"type\":\"WMTSTileSource\"},{\"attributes\":{\"data\":{\"xs\":[[[{\"__ndarray__\":\"LL8poM/sO0GzL9uJwuw7QauDMCWn7DtBRKzftX3sO0HvoDiiRuw7QTGTJ3IC7DtB537kzbHrO0GxYVN8Ves7QfIkGWHu6jtBLPxpen3qO0FSpJbeA+o7QbaNXrmC6TtB9YcNSfvoO0G3BWzbbug7Qah6icre5ztBgrBoeUznO0FYOJZQueY7QedQsbom5jtBT7vvIJblO0G2A6XnCOU7QfK61WqA5DtBGALf+v3jO0HtlzrZguM7QaFUZzUQ4ztBrKj9KafiO0GySve5SOI7QdTEMM714TtBlwcrM6/hO0FijRKXdeE7QR3yEIhJ4TtBpy3tcivhO0FF4f2hG+E7QXpfcDwa4TtBSEfmRSfhO0Eht2qeQuE7QRdEvwJs4TtB2AkADaPhO0GqT5015+E7QVBqqNQ34jtBWrNwI5TiO0Ezpmw+++I7QSh0aids4ztBiK0CyOXjO0EI90b0ZuQ7QYArpm3u5DtBGsL+5XrlO0H43NcCC+Y7QQ0BuWCd5jtBzCqYljDnO0HyuVU5w+c7QcGLPd9T6DtB1Y2EI+HoO0EpHLqpaek7Qe+cJCHs6TtBugABSGfqO0ElGJ3u2eo7QeoNRfpC6ztBrcb8Z6HrO0H9av5O9Os7QUz19+I67DtByUACdnTsO0G4x0x6oOw7QWf8eYO+7DtB5+6oR87sO0Esvymgz+w7QQ==\",\"dtype\":\"float64\",\"order\":\"little\",\"shape\":[65]}]]],\"ys\":[[[{\"__ndarray__\":\"9Q129WV3V0Eu5KYyQXdXQejLpu8cd1dBaN3Xhfl2V0Fzn4JM13ZXQacW/5e2dldBPCbluJd2V0HiPkb7enZXQQlB8qVgdldBilvJ+Uh2V0HJjxwxNHZXQbdfHn8idldB5AJlDxR2V0E5VH8FCXZXQb98nXwBdldBTy9Oh/11V0FtF1Ev/XVXQY/pfnUAdldBBk/HUQd2V0GqskSzEXZXQeu9ZYAfdldBMyIslzB2V0GXFYDNRHZXQba4l/FbdldBbGpxynV2V0Ge318YknZXQZCqppWwdldBR7Ql99B2V0GYBRLt8nZXQZQcuiMWd1dBE+5TRDp3V0ESm9L1XndXQfDMwd2Dd1dBS54koah3V0Fq61XlzHdXQWvh51Dwd1dBWqSAjBJ4V0FU6rFDM3hXQdZ1ySVSeFdBPWqY5m54V0HVii8/iXhXQb6Qju6geFdBl+JEurV4V0EsHQJvx3hXQXUEFeHVeFdBn5/X7OB4V0GrcQd36HhXQRTyCG3seFdBQpwVxex4V0GLIlR+6XhXQTqI2qDieFdBGB2aPdh4V0HVjDVuynhXQV5rwVS5eFdB4txvG6V4V0GyLCj0jXhXQT5YCxh0eFdBoMLmxld4V0GZcZZGOXhXQWBdWOIYeFdBn4ES6vZ3V0Etfo2x03dXQRqypY+vd1dBHtJ03Yp3V0H1DXb1ZXdXQQ==\",\"dtype\":\"float64\",\"order\":\"little\",\"shape\":[65]}]]]},\"selected\":{\"id\":\"1271\"},\"selection_policy\":{\"id\":\"1301\"}},\"id\":\"1270\",\"type\":\"ColumnDataSource\"},{\"attributes\":{\"margin\":[5,5,5,5],\"name\":\"HSpacer03586\",\"sizing_mode\":\"stretch_width\"},\"id\":\"1188\",\"type\":\"Spacer\"},{\"attributes\":{\"callback\":null,\"renderers\":[{\"id\":\"1276\"}],\"tags\":[\"hv_created\"],\"tooltips\":null},\"id\":\"1201\",\"type\":\"HoverTool\"},{\"attributes\":{},\"id\":\"1217\",\"type\":\"LinearScale\"},{\"attributes\":{\"fill_alpha\":{\"value\":0.5},\"fill_color\":{\"value\":\"#1f77b3\"},\"line_alpha\":{\"value\":0.5},\"line_width\":{\"value\":0},\"xs\":{\"field\":\"xs\"},\"ys\":{\"field\":\"ys\"}},\"id\":\"1273\",\"type\":\"MultiPolygons\"},{\"attributes\":{\"data_source\":{\"id\":\"1270\"},\"glyph\":{\"id\":\"1273\"},\"hover_glyph\":null,\"muted_glyph\":{\"id\":\"1275\"},\"nonselection_glyph\":{\"id\":\"1274\"},\"selection_glyph\":null,\"view\":{\"id\":\"1277\"}},\"id\":\"1276\",\"type\":\"GlyphRenderer\"},{\"attributes\":{\"data\":{\"Latitude\":{\"__ndarray__\":\"AS3Y8XR3V0E=\",\"dtype\":\"float64\",\"order\":\"little\",\"shape\":[1]},\"Longitude\":{\"__ndarray__\":\"IwG68PTmO0E=\",\"dtype\":\"float64\",\"order\":\"little\",\"shape\":[1]}},\"selected\":{\"id\":\"1279\"},\"selection_policy\":{\"id\":\"1303\"}},\"id\":\"1278\",\"type\":\"ColumnDataSource\"},{\"attributes\":{\"fill_color\":{\"value\":\"#1f77b3\"},\"line_color\":{\"value\":\"#1f77b3\"},\"size\":{\"units\":\"screen\",\"value\":5.477225575051661},\"x\":{\"field\":\"Longitude\"},\"y\":{\"field\":\"Latitude\"}},\"id\":\"1281\",\"type\":\"Scatter\"},{\"attributes\":{\"code\":\"\\n        var projections = Bokeh.require(\\\"core/util/projections\\\");\\n        var x = special_vars.data_x\\n        var y = special_vars.data_y\\n        if (projections.wgs84_mercator.invert == null) {\\n          var coords = projections.wgs84_mercator.inverse([x, y])\\n        } else {\\n          var coords = projections.wgs84_mercator.invert(x, y)\\n        }\\n        return \\\"\\\" + (coords[1]).toFixed(4)\\n    \"},\"id\":\"1287\",\"type\":\"CustomJSHover\"},{\"attributes\":{},\"id\":\"1215\",\"type\":\"LinearScale\"},{\"attributes\":{\"end\":6170102.263121219,\"min_interval\":5,\"reset_end\":6170102.263121219,\"reset_start\":6080691.907788631,\"start\":6080691.907788631,\"tags\":[[[\"Latitude\",\"Latitude\",null]]]},\"id\":\"1198\",\"type\":\"Range1d\"},{\"attributes\":{\"children\":[{\"id\":\"1188\"},{\"id\":\"1210\"},{\"id\":\"1372\"}],\"margin\":[0,0,0,0],\"name\":\"Row03582\",\"tags\":[\"embedded\"]},\"id\":\"1187\",\"type\":\"Row\"},{\"attributes\":{\"source\":{\"id\":\"1278\"}},\"id\":\"1285\",\"type\":\"CDSView\"},{\"attributes\":{},\"id\":\"1271\",\"type\":\"Selection\"},{\"attributes\":{\"zoom_on_axis\":false},\"id\":\"1229\",\"type\":\"WheelZoomTool\"},{\"attributes\":{},\"id\":\"1231\",\"type\":\"ResetTool\"},{\"attributes\":{\"tile_source\":{\"id\":\"1263\"}},\"id\":\"1266\",\"type\":\"TileRenderer\"},{\"attributes\":{},\"id\":\"1228\",\"type\":\"PanTool\"}],\"root_ids\":[\"1187\"]},\"title\":\"Bokeh Application\",\"version\":\"2.2.3\"}};\n",
       "  var render_items = [{\"docid\":\"2e97d199-4ef7-4efb-b2ec-de6784b9cfc4\",\"root_ids\":[\"1187\"],\"roots\":{\"1187\":\"6877dec6-3c10-401e-ac85-1b1046aa5e98\"}}];\n",
       "  root.Bokeh.embed.embed_items_notebook(docs_json, render_items);\n",
       "  }\n",
       "if (root.Bokeh !== undefined) {\n",
       "    embed_document(root);\n",
       "  } else {\n",
       "    var attempts = 0;\n",
       "    var timer = setInterval(function(root) {\n",
       "      if (root.Bokeh !== undefined) {\n",
       "        clearInterval(timer);\n",
       "        embed_document(root);\n",
       "      } else if (document.readyState == \"complete\") {\n",
       "        attempts++;\n",
       "        if (attempts > 100) {\n",
       "          clearInterval(timer);\n",
       "          console.log(\"Bokeh: ERROR: Unable to run BokehJS code because BokehJS library is missing\");\n",
       "        }\n",
       "      }\n",
       "    }, 10, root)\n",
       "  }\n",
       "})(window);</script>"
      ],
      "text/plain": [
       ":Overlay\n",
       "   .Tiles.I    :Tiles   [x,y]\n",
       "   .Polygons.I :Polygons   [Longitude,Latitude]\n",
       "   .Points.I   :Points   [Longitude,Latitude]\n",
       "   .Points.II  :Points   [Longitude,Latitude]"
      ]
     },
     "execution_count": 26,
     "metadata": {
      "application/vnd.holoviews_exec.v0+json": {
       "id": "1187"
      }
     },
     "output_type": "execute_result"
    }
   ],
   "source": [
    "gdf = gdf_from_wfs('ELADESTELLEOGD')\n",
    "map_plot * gdf.hvplot(geo=True).opts(active_tools=['wheel_zoom']) "
   ]
  },
  {
   "cell_type": "code",
   "execution_count": null,
   "metadata": {},
   "outputs": [],
   "source": []
  }
 ],
 "metadata": {
  "kernelspec": {
   "display_name": "Python 3",
   "language": "python",
   "name": "python3"
  },
  "language_info": {
   "codemirror_mode": {
    "name": "ipython",
    "version": 3
   },
   "file_extension": ".py",
   "mimetype": "text/x-python",
   "name": "python",
   "nbconvert_exporter": "python",
   "pygments_lexer": "ipython3",
   "version": "3.7.8"
  }
 },
 "nbformat": 4,
 "nbformat_minor": 4
}
